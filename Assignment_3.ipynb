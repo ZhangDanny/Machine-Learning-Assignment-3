{
  "nbformat": 4,
  "nbformat_minor": 0,
  "metadata": {
    "colab": {
      "name": "Assignment 3",
      "provenance": [],
      "collapsed_sections": [],
      "include_colab_link": true
    },
    "kernelspec": {
      "name": "python3",
      "display_name": "Python 3"
    }
  },
  "cells": [
    {
      "cell_type": "markdown",
      "metadata": {
        "id": "view-in-github",
        "colab_type": "text"
      },
      "source": [
        "<a href=\"https://colab.research.google.com/github/ZhangDanny/Machine-Learning-Assignment-3/blob/master/Assignment_3.ipynb\" target=\"_parent\"><img src=\"https://colab.research.google.com/assets/colab-badge.svg\" alt=\"Open In Colab\"/></a>"
      ]
    },
    {
      "cell_type": "markdown",
      "metadata": {
        "id": "qtXRNMg2p_9f",
        "colab_type": "text"
      },
      "source": [
        "# Project Title: prediction of stock price with machine learning "
      ]
    },
    {
      "cell_type": "markdown",
      "metadata": {
        "id": "EZk8P309ZPP2",
        "colab_type": "text"
      },
      "source": [
        "Name: Jianyu ZHANG   Student Number: 11793294"
      ]
    },
    {
      "cell_type": "markdown",
      "metadata": {
        "id": "f3c9aHYMqIT3",
        "colab_type": "text"
      },
      "source": [
        "# Project Aims:\n",
        "The aim of this project is to build a data model to predict stock price by using sentiment analysis of news merged with numerical analysis. Overall, the aim of this project can be broken into the following objectives. 1) The collection and filtering of important information and news. 2) The collection of share prices data 3) prepare data processing and training dataset 4) Build classifier for sentiment analysis and numerical analysis 5) develop the model and make prediction of selected share price. \n"
      ]
    },
    {
      "cell_type": "markdown",
      "metadata": {
        "id": "9KtAOggGqYn8",
        "colab_type": "text"
      },
      "source": [
        "# Background: \n",
        "\n",
        "Stock price is the price of a single stock sold by a public company. Prices of stocks are changeable, since the demand and supply affect the price. If more buyers willing to buy stocks, the prices generally increase. If more sellers willing to sell the stocks, the prices generally decrease. In financial analysis, there are two methods of analysing stock prices. One method is technical analysis, and another method is fundamental analysis. Technical analysis focuses on the historical prices and market statistics. Fundamental analysis is the approach which concern about economic factors those affect the financial market. In recent years, with machine learning algorithms are being widely used in different sectors including the financial sector. In our project, we will also apply machine learning algorithms (LST & Sentiment analysis) to build the model are based on the technical analysis and fundamental analysis. Long-short term memory (LSTM) belongs to recurrent neural-network architecture. Recurrent neural-network is chain shape structure, looping back to the previous layers. The mechanism of LSTM is to enable the network to study tasks that depend on previous occurred events (Robert& Thomas,2018). To link to the stock prediction, we can apply LSTM model into technical analysis to study the pattern of stock historical prices. Sentiment analysis is a text mining method to determine the emotion or subjective feelings from source materials such as newspaper, website, or media sources, and judge the news have positive effect or negative effect (Shah,Isah & Farhana 2018). With the recent advances in deep learning, the ability of algorithms to analyse text has improved considerably. There are several types sentiment analysis. One famous type is intent analysis, it is used to analyse the user’s intention behind the message, which determine whether the message relates to market, opinion or politics. It can be applied if some who wants to analyse the stock price change with someone’s twitter message. Another type is contextual semantic search method, which extract some interesting things from the messages (Shashan,2018). There are several advantages in sentiment analysis. First advantage is scalability, sentiment analysis can process thousands of news, twitter messages in effective way. Another advantage is that real time analysis, we can use sentiment analysis to identify important information that allows situational awareness during specific scenarios in real-time. In our project, we will use fundamental analysis by applying the sentiment analysis to analyse the effect on stock by mining the subjective feeling from news text and predict the trend of stock price. This method generally predicts the stock price in long term. \n"
      ]
    },
    {
      "cell_type": "markdown",
      "metadata": {
        "id": "oVH8v-B8qjch",
        "colab_type": "text"
      },
      "source": [
        "# Research Project:\n",
        "**Significance & Innovation**\n",
        "\n",
        "Financial prediction has never failed to attract investors’ attention. The successful analysis and prediction of stock trend or price means the successful investment for investors. Most current existing approaches of stock prediction by using machine learning algorithms is numerical analysis, which belongs to technical analysis. Even in some small-medium institutions, technical analysis is done by a group of analysts instead of one data scientist. Moreover, there is not much research about sentiment analysis about information. As we known, fundamental analysis is also important for stock trend prediction, since economic factors have bigger influence of stock price and trend in long term. For example, if Trunmp send a twitter about his opinion about US dollar value, the foreign exchangel market will be affected significantly by this twitter. However, the fundamental analysis and information reading work is generally done by human. Therefore, successful implementation of this project is the capstone of the implementation of sentiment analysis in fundamental analysis of stock prediction. On the other hand, investors will benefit from the successful investment by applying the model built. \n",
        "\n",
        "\n",
        "**Building model** \n",
        "\n",
        "1)\tData preparation \n",
        "\n",
        "Before constructing the training set. Both the historical stock price dataset and news articles needs to be downloaded. For the convenience, we download the New York Stock Exchange stock prices dataset from Yahoo Finance.  However, to promote the accuracy of sentiment analysis, we need to collect information as much as possible. The dataset is composed of news articles and twitter messages from different websites such as Yahoo Finance.    \n",
        "\n",
        "2)\t Training set construction \n",
        "\n",
        "In technical analysis part, we need to construct the training set by splitting 80% of the whole price dataset into training set, and 20% of the whole price dataset to be the testing set. \n",
        "\n",
        "3)\tImporting Libraries\n",
        "\n",
        "When we implement this project, we need use Python to build the models. And when we are building models, libraries are indispensable. For technical analysis, we need to build LSTM (Long Short-Term Memory), and there are some libraries imported from python as shown in the following figure. \n",
        "![alt text](https://raw.githubusercontent.com/ZhangDanny/Machine-Learning-Assignment-3/master/Screen%20Shot%202019-10-09%20at%203.50.28%20am.png)\n",
        "\n",
        "And for the sentiment analysis, we will build SVM (Support Vector Machines) model inn python. Some essential libraries are imported from python for building model as shown in the following figure. \n",
        "![alt text](https://raw.githubusercontent.com/ZhangDanny/Machine-Learning-Assignment-3/master/Screen%20Shot%202019-10-09%20at%204.03.12%20am.png)\n",
        "\n",
        "![alt text](https://raw.githubusercontent.com/ZhangDanny/Machine-Learning-Assignment-3/master/Screen%20Shot%202019-10-09%20at%204.03.47%20am.png)\n",
        "\n",
        "\n",
        "\n",
        "4)\tBuild classifiers \n",
        "\n",
        "In the sentiment analysis, the we will build a linear SVM classifier. The linear SVM classifier will take account each unique word in the sentence and all consecutive words. By this way, some essential information will be extracted. In python, the CountVectorizer from sklearn is used to transform each sentence into a vector. In the technical analysis, Long Short-Term Memory (LSTM) classifier is built in python, we will define LSTM model in a function in python to study the historical trend of stock. \n",
        "\n",
        "5)\tEvaluation \n",
        "\n",
        "This is the final step in building model in this project. In python, we use the function: MAE = mean_absolute_error to calculate the accuracy of the prediction. \n",
        "\n",
        "\n",
        "**Gantt Chart** \n",
        "\n",
        "\n",
        "The time-line of this project will be 8 weeks. The distribution of tasks is shown in the following gantt chart.\n",
        "\n",
        "![alt text](https://raw.githubusercontent.com/ZhangDanny/Machine-Learning-Assignment-3/master/Screen%20Shot%202019-10-09%20at%206.36.39%20am.png)\n",
        "\n",
        "\n",
        "**Expected Outcome**\n",
        "\n",
        "With the successful implementation of this project, the future price within a specific time of selected stock or stock market will be predicted accurately. Moreover, the accuracy of the prediction should be higher than prediction made by human. On the other hand, I expect that the chance of loss money will be reduced and the efficiency of prediction work will be improved.  Investors will benefit most from this successful project, with the successful prediction of stock price, they can have better trading strategies to have better investment return. Furthermore, can image that if this model is implemented successfully by one financial institution, the business performance of this financial institution will be improved significantly, and even perform better than other financial institution only focused on technical analysis. \n",
        "\n",
        "\n",
        "\n",
        "\n"
      ]
    },
    {
      "cell_type": "markdown",
      "metadata": {
        "id": "NWddOALRslYG",
        "colab_type": "text"
      },
      "source": [
        "\n",
        "# **Budget**\n",
        "\n",
        "In this project, since most of the work is completed by programming and analysis, so there is no equipment expense spent in this project. And python is a free software which does not have any cost. Therefore, most budget is spent on labour cost and information and data resources. We assume there are 5 working staffs we need. 2 financial analyst and 3 data scientists. The average annual salary for financial analyst in Australia is AU$73,350, and average annual salary for data scientist is $119,936. The project runs 2 weeks, which is approximately 2 months. So, the salary during the project running for financial analysts and data scientists are $12225 and $19989.3. For data collection, all the data and news will be collected from Bloomberg, and one-month subscription is $9.99/month. The total budget for this project is $84437.9.  "
      ]
    },
    {
      "cell_type": "markdown",
      "metadata": {
        "id": "PRRUdQv5zQSU",
        "colab_type": "text"
      },
      "source": [
        "# Personnel\n",
        "\n",
        "In this project, we only need two types of stuffs. One type is that financial analysts, another is data scientists. The main work for financial analysts is to collect news from websites and do some basic analysis such as this article has negative or positive impact on stock market. As for the data scientists, building successful data model is their main responsibility. \n"
      ]
    },
    {
      "cell_type": "markdown",
      "metadata": {
        "id": "hu96j_8PQdgy",
        "colab_type": "text"
      },
      "source": [
        "# video Pitch \n",
        "link:https://youtu.be/LKakEM3PIBg\n"
      ]
    },
    {
      "cell_type": "markdown",
      "metadata": {
        "id": "Z4BBb9SLz_x6",
        "colab_type": "text"
      },
      "source": [
        "# Reference\n",
        "\t\n",
        "Robert. C & Thomas.A ,(2018) Stock Price Prediction using Deep Learning, viewed 3rd October: https://scholarworks.sjsu.edu/cgi/viewcontent.cgi?referer=https://www.google.com.au/&httpsredir=1&article=1639&context=etd_projects\n",
        "\n",
        "Shashan. G, (2018), Sentiment Analysis: Concept, Analysis and Applications, viewed 4th October : https://towardsdatascience.com/sentiment-analysis-concept-analysis-and-applications-6c94d6f58c17\n",
        "\n",
        "\n",
        "Jeffrey.G(2013),Fundamental Analysis vs. Technical Analysis, viewed 4th October : http://www.businessdictionary.com/article/1104/fundamental-analysis-vs-technical-analysis-d1412/\n",
        "\n",
        "\n",
        "\n",
        "     Shobhit.S(2019), Top Financial and Stock Market News Sites , viewed 4th October : https://www.investopedia.com/articles/investing/112514/top-sites-latest-stock-market-news.asp\n"
      ]
    }
  ]
}